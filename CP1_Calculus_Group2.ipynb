{
 "cells": [
  {
   "cell_type": "code",
   "execution_count": 5,
   "id": "082c779e",
   "metadata": {},
   "outputs": [
    {
     "name": "stdout",
     "output_type": "stream",
     "text": [
      "Populating the interactive namespace from numpy and matplotlib\n"
     ]
    }
   ],
   "source": [
    "from integrals import adaptive_trapezoid\n",
    "%pylab inline"
   ]
  },
  {
   "cell_type": "code",
   "execution_count": null,
   "id": "447110e9",
   "metadata": {},
   "outputs": [],
   "source": [
    "# def calc_and_plot(func,a,b):\n",
    "#     calc = adaptive_trapezoid(a,b,0.99,output=True)\n",
    "#     matplotlib.pyplot.plot(x=[a,b],y =calc,'ro')\n",
    "#     plot.show()"
   ]
  },
  {
   "cell_type": "code",
   "execution_count": 11,
   "id": "7061e215",
   "metadata": {
    "scrolled": true
   },
   "outputs": [
    {
     "name": "stdout",
     "output_type": "stream",
     "text": [
      "N = 2,  Integral = 110137.32897403359\n",
      "N = 2.0,  Integral = 55810.73028252968\n",
      "N = 4.0,  Integral = 32455.927412306755\n",
      "N = 8.0,  Integral = 24821.354153296994\n",
      "N = 16.0,  Integral = 22737.81578168463\n",
      "N = 32.0,  Integral = 22204.418433198334\n",
      "N = 64.0,  Integral = 22070.25849666271\n",
      "N = 128.0,  Integral = 22036.667386590423\n",
      "N = 256.0,  Integral = 22028.26640638897\n",
      "N = 512.0,  Integral = 22026.16596105638\n",
      "N = 1024.0,  Integral = 22025.64083720381\n",
      "22025.64083720381\n"
     ]
    }
   ],
   "source": [
    "calc_e = adaptive_trapezoid(np.exp,a=0,b=10,acc=0.99,output=True)"
   ]
  },
  {
   "cell_type": "code",
   "execution_count": 13,
   "id": "a4f7e2c1",
   "metadata": {},
   "outputs": [
    {
     "data": {
      "image/png": "[encoded data removed]",
      "text/plain": [
       "<Figure size 432x288 with 1 Axes>"
      ]
     },
     "metadata": {
      "needs_background": "light"
     },
     "output_type": "display_data"
    }
   ],
   "source": [
    "a = 0.01\n",
    "b = 10\n",
    "x = np.linspace(a,b,10000)\n",
    "y = np.exp(x)\n",
    "plt.xlabel(\"x\")\n",
    "plt.ylabel(\"y\")\n",
    "plt.plot(x,y)\n",
    "plt.show()"
   ]
  },
  {
   "cell_type": "code",
   "execution_count": null,
   "id": "b2dba060",
   "metadata": {},
   "outputs": [],
   "source": []
  }
 ],
 "metadata": {
  "kernelspec": {
   "display_name": "Python 3 (ipykernel)",
   "language": "python",
   "name": "python3"
  },
  "language_info": {
   "codemirror_mode": {
    "name": "ipython",
    "version": 3
   },
   "file_extension": ".py",
   "mimetype": "text/x-python",
   "name": "python",
   "nbconvert_exporter": "python",
   "pygments_lexer": "ipython3",
   "version": "3.9.7"
  }
 },
 "nbformat": 4,
 "nbformat_minor": 5
}
