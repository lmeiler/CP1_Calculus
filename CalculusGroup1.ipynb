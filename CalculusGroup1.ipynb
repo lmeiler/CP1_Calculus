{
 "cells": [
  {
   "cell_type": "code",
   "execution_count": null,
   "id": "15f279c1-f998-45e0-a1fa-f63d7ddbfb9c",
   "metadata": {},
   "outputs": [],
   "source": [
    "from UtilityFunctions.integrals import simpson"
   ]
  },
  {
   "cell_type": "code",
   "execution_count": null,
   "id": "1cc1c102-0e3a-456a-b587-94248e5fc7ec",
   "metadata": {},
   "outputs": [],
   "source": [
    "import numpy as np\n",
    "#import matplotlib as plt\n",
    "import pylab\n",
    "import matplotlib.pyplot as plt\n",
    "from matplotlib.patches import Polygon"
   ]
  },
  {
   "cell_type": "code",
   "execution_count": null,
   "id": "d23e8784-5127-4c84-9296-1628af97f67d",
   "metadata": {},
   "outputs": [],
   "source": [
    "f = np.exp\n",
    "integral1 = simpson(f, 1, 10, 9)\n",
    "print(integral1)"
   ]
  },
  {
   "cell_type": "code",
   "execution_count": null,
   "id": "b15a63b5-4053-4c24-b8d6-d0c8f5be9215",
   "metadata": {},
   "outputs": [],
   "source": [
    "pylab.plot(np.arange(1,10,1),f(np.arange(1,10,1)))"
   ]
  }
 ],
 "metadata": {
  "kernelspec": {
   "display_name": "Python 3 (ipykernel)",
   "language": "python",
   "name": "python3"
  },
  "language_info": {
   "codemirror_mode": {
    "name": "ipython",
    "version": 3
   },
   "file_extension": ".py",
   "mimetype": "text/x-python",
   "name": "python",
   "nbconvert_exporter": "python",
   "pygments_lexer": "ipython3",
   "version": "3.9.5"
  }
 },
 "nbformat": 4,
 "nbformat_minor": 5
}
